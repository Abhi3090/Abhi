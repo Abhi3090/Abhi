{
 "cells": [
  {
   "cell_type": "code",
   "execution_count": 17,
   "metadata": {},
   "outputs": [],
   "source": [
    "from dask.distributed import Client\n",
    "import dask.dataframe as dd\n",
    "import pandas as pd\n",
    "from pathlib import Path\n",
    "from fsspec.registry import known_implementations\n",
    "known_implementations['adl'] = {'class': 'adlfs.AzureDatalakeFileSystem'}"
   ]
  },
  {
   "cell_type": "code",
   "execution_count": 18,
   "metadata": {},
   "outputs": [],
   "source": [
    "client=Client('172.20.198.209:8786')"
   ]
  },
  {
   "cell_type": "code",
   "execution_count": 19,
   "metadata": {},
   "outputs": [
    {
     "data": {
      "text/html": [
       "<table style=\"border: 2px solid white;\">\n",
       "<tr>\n",
       "<td style=\"vertical-align: top; border: 0px solid white\">\n",
       "<h3 style=\"text-align: left;\">Client</h3>\n",
       "<ul style=\"text-align: left; list-style: none; margin: 0; padding: 0;\">\n",
       "  <li><b>Scheduler: </b>tcp://172.20.198.209:8786</li>\n",
       "  <li><b>Dashboard: </b><a href='http://172.20.198.209:8787/status' target='_blank'>http://172.20.198.209:8787/status</a>\n",
       "</ul>\n",
       "</td>\n",
       "<td style=\"vertical-align: top; border: 0px solid white\">\n",
       "<h3 style=\"text-align: left;\">Cluster</h3>\n",
       "<ul style=\"text-align: left; list-style:none; margin: 0; padding: 0;\">\n",
       "  <li><b>Workers: </b>19</li>\n",
       "  <li><b>Cores: </b>76</li>\n",
       "  <li><b>Memory: </b>640.46 GB</li>\n",
       "</ul>\n",
       "</td>\n",
       "</tr>\n",
       "</table>"
      ],
      "text/plain": [
       "<Client: scheduler='tcp://10.244.2.243:8786' processes=19 cores=76>"
      ]
     },
     "execution_count": 19,
     "metadata": {},
     "output_type": "execute_result"
    }
   ],
   "source": [
    "client"
   ]
  },
  {
   "cell_type": "code",
   "execution_count": 20,
   "metadata": {},
   "outputs": [],
   "source": [
    "# client.get_versions(check=True)"
   ]
  },
  {
   "cell_type": "code",
   "execution_count": 21,
   "metadata": {},
   "outputs": [],
   "source": [
    "# Set the home directory\n",
    "home = Path.cwd()\n",
    "STORAGE_OPTIONS={'tenant_id' : 'c1eb5112-7946-4c9d-bc57-40040cfe3a91',\n",
    "                 'client_secret' : 'oE63J*QVKfV*bEJN@dIQpkb2*xVr0l3_',\n",
    "                 'client_id' : 'a3afc7a4-80a7-4d7c-8b27-5cc1209aff3c'}\n",
    "STORE_NAME='eclwpsdatalake'"
   ]
  },
  {
   "cell_type": "code",
   "execution_count": 22,
   "metadata": {},
   "outputs": [],
   "source": [
    "# Load the customer data\n",
    "cust_df=pd.read_excel(Path(home, 'data', 'WH Controllers (version 1).xlsx'), sheet_name='Sheet1')\n",
    "cust_df=cust_df[['ControllerID','SerialNo','Customer Name', 'City', 'State', 'Country',\n",
    "       'RegionName','DATA IN LAST 3 MONTHS', 'DATA IN LAST 12 MONTHS']]\n",
    "cust_df.columns=cust_df.columns.str.lower().tolist()"
   ]
  },
  {
   "cell_type": "code",
   "execution_count": 23,
   "metadata": {},
   "outputs": [],
   "source": [
    "files = ['2017H1.csv', '2017H2.csv', '2018H1.csv', '2018H2.csv',\n",
    "          '2019H1.csv']\n",
    "cols = ['controllerid','parameterid','MeasureDate','parametername','Application','value']\n",
    "\n",
    "#files1 = ['2018Jan1Week.csv', '2019June2Weeks.csv']\n",
    "#controllers = \"WH Controllers (version 1).xlsx , sheet='Sheet1'\""
   ]
  },
  {
   "cell_type": "code",
   "execution_count": 24,
   "metadata": {},
   "outputs": [],
   "source": [
    "def load_file(file, storage_options, cols):\n",
    "    fname = f'adl://{STORE_NAME}/WPS/Corrosion_Readings/15minsFrequency/{file}'\n",
    "    ddf = dd.read_csv(fname, storage_options=storage_options, header=None)\n",
    "    ddf.columns=cols\n",
    "   # ddf['parametername'] = ddf['parametername'].astype('category')\n",
    "   # ddf['Application'] = ddf['Application'].astype('category')\n",
    "    return ddf"
   ]
  },
  {
   "cell_type": "code",
   "execution_count": 25,
   "metadata": {},
   "outputs": [],
   "source": [
    "dfs = []\n",
    "for file in files:\n",
    "    ddf = load_file(file=file, storage_options=STORAGE_OPTIONS, cols=cols)\n",
    "    dfs.append(ddf)"
   ]
  },
  {
   "cell_type": "code",
   "execution_count": 26,
   "metadata": {},
   "outputs": [],
   "source": [
    "ddf2 = dd.concat(dfs, axis=0).persist()"
   ]
  },
  {
   "cell_type": "code",
   "execution_count": 27,
   "metadata": {},
   "outputs": [],
   "source": [
    "ddf3 = ddf2.reset_index(drop=True)"
   ]
  },
  {
   "cell_type": "code",
   "execution_count": 28,
   "metadata": {},
   "outputs": [
    {
     "data": {
      "text/plain": [
       "controllerid       int64\n",
       "parameterid        int64\n",
       "MeasureDate       object\n",
       "parametername     object\n",
       "Application       object\n",
       "value            float64\n",
       "dtype: object"
      ]
     },
     "execution_count": 28,
     "metadata": {},
     "output_type": "execute_result"
    }
   ],
   "source": [
    "ddf3._meta.dtypes"
   ]
  },
  {
   "cell_type": "code",
   "execution_count": 29,
   "metadata": {},
   "outputs": [
    {
     "data": {
      "text/html": [
       "<div>\n",
       "<style scoped>\n",
       "    .dataframe tbody tr th:only-of-type {\n",
       "        vertical-align: middle;\n",
       "    }\n",
       "\n",
       "    .dataframe tbody tr th {\n",
       "        vertical-align: top;\n",
       "    }\n",
       "\n",
       "    .dataframe thead th {\n",
       "        text-align: right;\n",
       "    }\n",
       "</style>\n",
       "<table border=\"1\" class=\"dataframe\">\n",
       "  <thead>\n",
       "    <tr style=\"text-align: right;\">\n",
       "      <th></th>\n",
       "      <th>controllerid</th>\n",
       "      <th>parameterid</th>\n",
       "      <th>MeasureDate</th>\n",
       "      <th>parametername</th>\n",
       "      <th>Application</th>\n",
       "      <th>value</th>\n",
       "    </tr>\n",
       "  </thead>\n",
       "  <tbody>\n",
       "    <tr>\n",
       "      <td>0</td>\n",
       "      <td>73468</td>\n",
       "      <td>14</td>\n",
       "      <td>2017-01-06 07:30:00.000</td>\n",
       "      <td>TRASAR Dose</td>\n",
       "      <td>CCGT- Combined Cycle</td>\n",
       "      <td>26.93</td>\n",
       "    </tr>\n",
       "    <tr>\n",
       "      <td>1</td>\n",
       "      <td>73468</td>\n",
       "      <td>14</td>\n",
       "      <td>2017-01-06 07:45:00.000</td>\n",
       "      <td>TRASAR Dose</td>\n",
       "      <td>CCGT- Combined Cycle</td>\n",
       "      <td>25.70</td>\n",
       "    </tr>\n",
       "    <tr>\n",
       "      <td>2</td>\n",
       "      <td>73468</td>\n",
       "      <td>14</td>\n",
       "      <td>2017-01-06 08:00:00.000</td>\n",
       "      <td>TRASAR Dose</td>\n",
       "      <td>CCGT- Combined Cycle</td>\n",
       "      <td>26.62</td>\n",
       "    </tr>\n",
       "    <tr>\n",
       "      <td>3</td>\n",
       "      <td>73468</td>\n",
       "      <td>14</td>\n",
       "      <td>2017-01-06 08:15:00.000</td>\n",
       "      <td>TRASAR Dose</td>\n",
       "      <td>CCGT- Combined Cycle</td>\n",
       "      <td>27.46</td>\n",
       "    </tr>\n",
       "    <tr>\n",
       "      <td>4</td>\n",
       "      <td>73468</td>\n",
       "      <td>14</td>\n",
       "      <td>2017-01-06 08:30:00.000</td>\n",
       "      <td>TRASAR Dose</td>\n",
       "      <td>CCGT- Combined Cycle</td>\n",
       "      <td>28.35</td>\n",
       "    </tr>\n",
       "  </tbody>\n",
       "</table>\n",
       "</div>"
      ],
      "text/plain": [
       "   controllerid  parameterid              MeasureDate parametername  \\\n",
       "0         73468           14  2017-01-06 07:30:00.000   TRASAR Dose   \n",
       "1         73468           14  2017-01-06 07:45:00.000   TRASAR Dose   \n",
       "2         73468           14  2017-01-06 08:00:00.000   TRASAR Dose   \n",
       "3         73468           14  2017-01-06 08:15:00.000   TRASAR Dose   \n",
       "4         73468           14  2017-01-06 08:30:00.000   TRASAR Dose   \n",
       "\n",
       "            Application  value  \n",
       "0  CCGT- Combined Cycle  26.93  \n",
       "1  CCGT- Combined Cycle  25.70  \n",
       "2  CCGT- Combined Cycle  26.62  \n",
       "3  CCGT- Combined Cycle  27.46  \n",
       "4  CCGT- Combined Cycle  28.35  "
      ]
     },
     "execution_count": 29,
     "metadata": {},
     "output_type": "execute_result"
    }
   ],
   "source": [
    "ddf3.head()"
   ]
  },
  {
   "cell_type": "code",
   "execution_count": 30,
   "metadata": {},
   "outputs": [
    {
     "name": "stdout",
     "output_type": "stream",
     "text": [
      "2163.0\n"
     ]
    }
   ],
   "source": [
    "mem = ddf2.memory_usage(deep=True).sum().compute()//1e6\n",
    "print(mem)"
   ]
  },
  {
   "cell_type": "code",
   "execution_count": 31,
   "metadata": {},
   "outputs": [
    {
     "data": {
      "text/plain": [
       "3"
      ]
     },
     "execution_count": 31,
     "metadata": {},
     "output_type": "execute_result"
    }
   ],
   "source": [
    "ddf.npartitions"
   ]
  },
  {
   "cell_type": "code",
   "execution_count": 32,
   "metadata": {},
   "outputs": [],
   "source": [
    "ddf3 = ddf2.repartition(npartitions=500).persist()"
   ]
  },
  {
   "cell_type": "code",
   "execution_count": 33,
   "metadata": {},
   "outputs": [
    {
     "data": {
      "text/html": [
       "<div>\n",
       "<style scoped>\n",
       "    .dataframe tbody tr th:only-of-type {\n",
       "        vertical-align: middle;\n",
       "    }\n",
       "\n",
       "    .dataframe tbody tr th {\n",
       "        vertical-align: top;\n",
       "    }\n",
       "\n",
       "    .dataframe thead th {\n",
       "        text-align: right;\n",
       "    }\n",
       "</style>\n",
       "<table border=\"1\" class=\"dataframe\">\n",
       "  <thead>\n",
       "    <tr style=\"text-align: right;\">\n",
       "      <th></th>\n",
       "      <th>controllerid</th>\n",
       "      <th>parameterid</th>\n",
       "      <th>MeasureDate</th>\n",
       "      <th>parametername</th>\n",
       "      <th>Application</th>\n",
       "      <th>value</th>\n",
       "    </tr>\n",
       "  </thead>\n",
       "  <tbody>\n",
       "    <tr>\n",
       "      <td>0</td>\n",
       "      <td>73468</td>\n",
       "      <td>14</td>\n",
       "      <td>2017-01-06 07:30:00.000</td>\n",
       "      <td>TRASAR Dose</td>\n",
       "      <td>CCGT- Combined Cycle</td>\n",
       "      <td>26.93</td>\n",
       "    </tr>\n",
       "    <tr>\n",
       "      <td>1</td>\n",
       "      <td>73468</td>\n",
       "      <td>14</td>\n",
       "      <td>2017-01-06 07:45:00.000</td>\n",
       "      <td>TRASAR Dose</td>\n",
       "      <td>CCGT- Combined Cycle</td>\n",
       "      <td>25.70</td>\n",
       "    </tr>\n",
       "    <tr>\n",
       "      <td>2</td>\n",
       "      <td>73468</td>\n",
       "      <td>14</td>\n",
       "      <td>2017-01-06 08:00:00.000</td>\n",
       "      <td>TRASAR Dose</td>\n",
       "      <td>CCGT- Combined Cycle</td>\n",
       "      <td>26.62</td>\n",
       "    </tr>\n",
       "    <tr>\n",
       "      <td>3</td>\n",
       "      <td>73468</td>\n",
       "      <td>14</td>\n",
       "      <td>2017-01-06 08:15:00.000</td>\n",
       "      <td>TRASAR Dose</td>\n",
       "      <td>CCGT- Combined Cycle</td>\n",
       "      <td>27.46</td>\n",
       "    </tr>\n",
       "    <tr>\n",
       "      <td>4</td>\n",
       "      <td>73468</td>\n",
       "      <td>14</td>\n",
       "      <td>2017-01-06 08:30:00.000</td>\n",
       "      <td>TRASAR Dose</td>\n",
       "      <td>CCGT- Combined Cycle</td>\n",
       "      <td>28.35</td>\n",
       "    </tr>\n",
       "  </tbody>\n",
       "</table>\n",
       "</div>"
      ],
      "text/plain": [
       "   controllerid  parameterid              MeasureDate parametername  \\\n",
       "0         73468           14  2017-01-06 07:30:00.000   TRASAR Dose   \n",
       "1         73468           14  2017-01-06 07:45:00.000   TRASAR Dose   \n",
       "2         73468           14  2017-01-06 08:00:00.000   TRASAR Dose   \n",
       "3         73468           14  2017-01-06 08:15:00.000   TRASAR Dose   \n",
       "4         73468           14  2017-01-06 08:30:00.000   TRASAR Dose   \n",
       "\n",
       "            Application  value  \n",
       "0  CCGT- Combined Cycle  26.93  \n",
       "1  CCGT- Combined Cycle  25.70  \n",
       "2  CCGT- Combined Cycle  26.62  \n",
       "3  CCGT- Combined Cycle  27.46  \n",
       "4  CCGT- Combined Cycle  28.35  "
      ]
     },
     "execution_count": 33,
     "metadata": {},
     "output_type": "execute_result"
    }
   ],
   "source": [
    "ddf3.head(5)"
   ]
  },
  {
   "cell_type": "code",
   "execution_count": 35,
   "metadata": {},
   "outputs": [],
   "source": [
    "outfile = f'adl://{STORE_NAME}/WPS/EDA/Corrosion_Readings/readings15mins.parquet'"
   ]
  },
  {
   "cell_type": "code",
   "execution_count": 36,
   "metadata": {},
   "outputs": [],
   "source": [
    "dd.to_parquet(ddf3, outfile, storage_options=STORAGE_OPTIONS, engine='pyarrow')"
   ]
  },
  {
   "cell_type": "code",
   "execution_count": 37,
   "metadata": {},
   "outputs": [],
   "source": [
    "client.close()"
   ]
  },
  {
   "cell_type": "code",
   "execution_count": null,
   "metadata": {},
   "outputs": [],
   "source": []
  }
 ],
 "metadata": {
  "kernelspec": {
   "display_name": "Python 3",
   "language": "python",
   "name": "python3"
  },
  "language_info": {
   "codemirror_mode": {
    "name": "ipython",
    "version": 3
   },
   "file_extension": ".py",
   "mimetype": "text/x-python",
   "name": "python",
   "nbconvert_exporter": "python",
   "pygments_lexer": "ipython3",
   "version": "3.7.3"
  }
 },
 "nbformat": 4,
 "nbformat_minor": 2
}
